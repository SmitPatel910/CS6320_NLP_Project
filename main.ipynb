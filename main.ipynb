{
 "cells": [
  {
   "cell_type": "code",
   "execution_count": null,
   "id": "c474ffe8",
   "metadata": {},
   "outputs": [
    {
     "name": "stdout",
     "output_type": "stream",
     "text": [
      "Requirement already satisfied: google-genai==1.7.0 in c:\\users\\savan\\appdata\\local\\programs\\python\\python311\\lib\\site-packages (1.7.0)\n",
      "Requirement already satisfied: anyio<5.0.0,>=4.8.0 in c:\\users\\savan\\appdata\\local\\programs\\python\\python311\\lib\\site-packages (from google-genai==1.7.0) (4.9.0)\n",
      "Requirement already satisfied: google-auth<3.0.0,>=2.14.1 in c:\\users\\savan\\appdata\\local\\programs\\python\\python311\\lib\\site-packages (from google-genai==1.7.0) (2.39.0)\n",
      "Requirement already satisfied: httpx<1.0.0,>=0.28.1 in c:\\users\\savan\\appdata\\local\\programs\\python\\python311\\lib\\site-packages (from google-genai==1.7.0) (0.28.1)\n",
      "Requirement already satisfied: pydantic<3.0.0,>=2.0.0 in c:\\users\\savan\\appdata\\local\\programs\\python\\python311\\lib\\site-packages (from google-genai==1.7.0) (2.11.3)\n",
      "Requirement already satisfied: requests<3.0.0,>=2.28.1 in c:\\users\\savan\\appdata\\local\\programs\\python\\python311\\lib\\site-packages (from google-genai==1.7.0) (2.32.3)\n",
      "Requirement already satisfied: websockets<15.1.0,>=13.0.0 in c:\\users\\savan\\appdata\\local\\programs\\python\\python311\\lib\\site-packages (from google-genai==1.7.0) (15.0.1)\n",
      "Requirement already satisfied: typing-extensions<5.0.0,>=4.11.0 in c:\\users\\savan\\appdata\\local\\programs\\python\\python311\\lib\\site-packages (from google-genai==1.7.0) (4.13.2)\n",
      "Requirement already satisfied: idna>=2.8 in c:\\users\\savan\\appdata\\local\\programs\\python\\python311\\lib\\site-packages (from anyio<5.0.0,>=4.8.0->google-genai==1.7.0) (3.10)\n",
      "Requirement already satisfied: sniffio>=1.1 in c:\\users\\savan\\appdata\\local\\programs\\python\\python311\\lib\\site-packages (from anyio<5.0.0,>=4.8.0->google-genai==1.7.0) (1.3.1)\n",
      "Requirement already satisfied: cachetools<6.0,>=2.0.0 in c:\\users\\savan\\appdata\\local\\programs\\python\\python311\\lib\\site-packages (from google-auth<3.0.0,>=2.14.1->google-genai==1.7.0) (5.5.2)\n",
      "Requirement already satisfied: pyasn1-modules>=0.2.1 in c:\\users\\savan\\appdata\\local\\programs\\python\\python311\\lib\\site-packages (from google-auth<3.0.0,>=2.14.1->google-genai==1.7.0) (0.4.2)\n",
      "Requirement already satisfied: rsa<5,>=3.1.4 in c:\\users\\savan\\appdata\\local\\programs\\python\\python311\\lib\\site-packages (from google-auth<3.0.0,>=2.14.1->google-genai==1.7.0) (4.9.1)\n",
      "Requirement already satisfied: certifi in c:\\users\\savan\\appdata\\local\\programs\\python\\python311\\lib\\site-packages (from httpx<1.0.0,>=0.28.1->google-genai==1.7.0) (2025.4.26)\n",
      "Requirement already satisfied: httpcore==1.* in c:\\users\\savan\\appdata\\local\\programs\\python\\python311\\lib\\site-packages (from httpx<1.0.0,>=0.28.1->google-genai==1.7.0) (1.0.9)\n",
      "Requirement already satisfied: h11>=0.16 in c:\\users\\savan\\appdata\\local\\programs\\python\\python311\\lib\\site-packages (from httpcore==1.*->httpx<1.0.0,>=0.28.1->google-genai==1.7.0) (0.16.0)\n",
      "Requirement already satisfied: annotated-types>=0.6.0 in c:\\users\\savan\\appdata\\local\\programs\\python\\python311\\lib\\site-packages (from pydantic<3.0.0,>=2.0.0->google-genai==1.7.0) (0.7.0)\n",
      "Requirement already satisfied: pydantic-core==2.33.1 in c:\\users\\savan\\appdata\\local\\programs\\python\\python311\\lib\\site-packages (from pydantic<3.0.0,>=2.0.0->google-genai==1.7.0) (2.33.1)\n",
      "Requirement already satisfied: typing-inspection>=0.4.0 in c:\\users\\savan\\appdata\\local\\programs\\python\\python311\\lib\\site-packages (from pydantic<3.0.0,>=2.0.0->google-genai==1.7.0) (0.4.0)\n",
      "Requirement already satisfied: charset-normalizer<4,>=2 in c:\\users\\savan\\appdata\\local\\programs\\python\\python311\\lib\\site-packages (from requests<3.0.0,>=2.28.1->google-genai==1.7.0) (3.4.1)\n",
      "Requirement already satisfied: urllib3<3,>=1.21.1 in c:\\users\\savan\\appdata\\local\\programs\\python\\python311\\lib\\site-packages (from requests<3.0.0,>=2.28.1->google-genai==1.7.0) (2.4.0)\n",
      "Requirement already satisfied: pyasn1>=0.1.3 in c:\\users\\savan\\appdata\\local\\programs\\python\\python311\\lib\\site-packages (from rsa<5,>=3.1.4->google-auth<3.0.0,>=2.14.1->google-genai==1.7.0) (0.6.1)\n",
      "Requirement already satisfied: google-api-core in c:\\users\\savan\\appdata\\local\\programs\\python\\python311\\lib\\site-packages (2.24.2)\n",
      "Requirement already satisfied: googleapis-common-protos<2.0.0,>=1.56.2 in c:\\users\\savan\\appdata\\local\\programs\\python\\python311\\lib\\site-packages (from google-api-core) (1.70.0)\n",
      "Requirement already satisfied: protobuf!=3.20.0,!=3.20.1,!=4.21.0,!=4.21.1,!=4.21.2,!=4.21.3,!=4.21.4,!=4.21.5,<7.0.0,>=3.19.5 in c:\\users\\savan\\appdata\\local\\programs\\python\\python311\\lib\\site-packages (from google-api-core) (5.29.4)\n",
      "Requirement already satisfied: proto-plus<2.0.0,>=1.22.3 in c:\\users\\savan\\appdata\\local\\programs\\python\\python311\\lib\\site-packages (from google-api-core) (1.26.1)\n",
      "Requirement already satisfied: google-auth<3.0.0,>=2.14.1 in c:\\users\\savan\\appdata\\local\\programs\\python\\python311\\lib\\site-packages (from google-api-core) (2.39.0)\n",
      "Requirement already satisfied: requests<3.0.0,>=2.18.0 in c:\\users\\savan\\appdata\\local\\programs\\python\\python311\\lib\\site-packages (from google-api-core) (2.32.3)\n",
      "Requirement already satisfied: cachetools<6.0,>=2.0.0 in c:\\users\\savan\\appdata\\local\\programs\\python\\python311\\lib\\site-packages (from google-auth<3.0.0,>=2.14.1->google-api-core) (5.5.2)\n",
      "Requirement already satisfied: pyasn1-modules>=0.2.1 in c:\\users\\savan\\appdata\\local\\programs\\python\\python311\\lib\\site-packages (from google-auth<3.0.0,>=2.14.1->google-api-core) (0.4.2)\n",
      "Requirement already satisfied: rsa<5,>=3.1.4 in c:\\users\\savan\\appdata\\local\\programs\\python\\python311\\lib\\site-packages (from google-auth<3.0.0,>=2.14.1->google-api-core) (4.9.1)\n",
      "Requirement already satisfied: charset-normalizer<4,>=2 in c:\\users\\savan\\appdata\\local\\programs\\python\\python311\\lib\\site-packages (from requests<3.0.0,>=2.18.0->google-api-core) (3.4.1)\n",
      "Requirement already satisfied: idna<4,>=2.5 in c:\\users\\savan\\appdata\\local\\programs\\python\\python311\\lib\\site-packages (from requests<3.0.0,>=2.18.0->google-api-core) (3.10)\n",
      "Requirement already satisfied: urllib3<3,>=1.21.1 in c:\\users\\savan\\appdata\\local\\programs\\python\\python311\\lib\\site-packages (from requests<3.0.0,>=2.18.0->google-api-core) (2.4.0)\n",
      "Requirement already satisfied: certifi>=2017.4.17 in c:\\users\\savan\\appdata\\local\\programs\\python\\python311\\lib\\site-packages (from requests<3.0.0,>=2.18.0->google-api-core) (2025.4.26)\n",
      "Requirement already satisfied: pyasn1>=0.1.3 in c:\\users\\savan\\appdata\\local\\programs\\python\\python311\\lib\\site-packages (from rsa<5,>=3.1.4->google-auth<3.0.0,>=2.14.1->google-api-core) (0.6.1)\n"
     ]
    }
   ],
   "source": [
    "!pip install -U google-genai==1.7.0\n",
    "!pip install google-api-core\n",
    "!pip install python-dotenv"
   ]
  },
  {
   "cell_type": "code",
   "execution_count": null,
   "id": "17ef357b",
   "metadata": {},
   "outputs": [],
   "source": [
    "import pandas as pd\n",
    "from google import genai\n",
    "from dotenv import load_dotenv\n",
    "load_dotenv()"
   ]
  },
  {
   "cell_type": "code",
   "execution_count": 5,
   "id": "cfea2694",
   "metadata": {},
   "outputs": [],
   "source": [
    "recipes_df = pd.read_csv(\"dataset.csv\")\n",
    "documents = recipes_df['name'].astype(str) + \" → \" + recipes_df['steps'].astype(str)\n",
    "documents = documents.tolist()"
   ]
  },
  {
   "cell_type": "code",
   "execution_count": null,
   "id": "251dfca8",
   "metadata": {},
   "outputs": [],
   "source": [
    "api_key = os.getenv('KEY')\n",
    "genai_client = genai.Client(api_key=api_key)"
   ]
  }
 ],
 "metadata": {
  "kernelspec": {
   "display_name": "Python 3",
   "language": "python",
   "name": "python3"
  },
  "language_info": {
   "codemirror_mode": {
    "name": "ipython",
    "version": 3
   },
   "file_extension": ".py",
   "mimetype": "text/x-python",
   "name": "python",
   "nbconvert_exporter": "python",
   "pygments_lexer": "ipython3",
   "version": "3.11.9"
  }
 },
 "nbformat": 4,
 "nbformat_minor": 5
}
