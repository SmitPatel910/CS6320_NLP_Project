{
 "cells": [
  {
   "cell_type": "code",
   "execution_count": null,
   "id": "c474ffe8",
   "metadata": {},
   "outputs": [
    {
     "name": "stdout",
     "output_type": "stream",
     "text": [
      "Requirement already satisfied: google-genai in c:\\users\\savan\\appdata\\local\\programs\\python\\python311\\lib\\site-packages (1.13.0)\n",
      "Requirement already satisfied: anyio<5.0.0,>=4.8.0 in c:\\users\\savan\\appdata\\local\\programs\\python\\python311\\lib\\site-packages (from google-genai) (4.9.0)\n",
      "Requirement already satisfied: google-auth<3.0.0,>=2.14.1 in c:\\users\\savan\\appdata\\local\\programs\\python\\python311\\lib\\site-packages (from google-genai) (2.39.0)\n",
      "Requirement already satisfied: httpx<1.0.0,>=0.28.1 in c:\\users\\savan\\appdata\\local\\programs\\python\\python311\\lib\\site-packages (from google-genai) (0.28.1)\n",
      "Requirement already satisfied: pydantic<3.0.0,>=2.0.0 in c:\\users\\savan\\appdata\\local\\programs\\python\\python311\\lib\\site-packages (from google-genai) (2.11.3)\n",
      "Requirement already satisfied: requests<3.0.0,>=2.28.1 in c:\\users\\savan\\appdata\\local\\programs\\python\\python311\\lib\\site-packages (from google-genai) (2.32.3)\n",
      "Requirement already satisfied: websockets<15.1.0,>=13.0.0 in c:\\users\\savan\\appdata\\local\\programs\\python\\python311\\lib\\site-packages (from google-genai) (15.0.1)\n",
      "Requirement already satisfied: typing-extensions<5.0.0,>=4.11.0 in c:\\users\\savan\\appdata\\local\\programs\\python\\python311\\lib\\site-packages (from google-genai) (4.13.2)\n",
      "Requirement already satisfied: idna>=2.8 in c:\\users\\savan\\appdata\\local\\programs\\python\\python311\\lib\\site-packages (from anyio<5.0.0,>=4.8.0->google-genai) (3.10)\n",
      "Requirement already satisfied: sniffio>=1.1 in c:\\users\\savan\\appdata\\local\\programs\\python\\python311\\lib\\site-packages (from anyio<5.0.0,>=4.8.0->google-genai) (1.3.1)\n",
      "Requirement already satisfied: cachetools<6.0,>=2.0.0 in c:\\users\\savan\\appdata\\local\\programs\\python\\python311\\lib\\site-packages (from google-auth<3.0.0,>=2.14.1->google-genai) (5.5.2)\n",
      "Requirement already satisfied: pyasn1-modules>=0.2.1 in c:\\users\\savan\\appdata\\local\\programs\\python\\python311\\lib\\site-packages (from google-auth<3.0.0,>=2.14.1->google-genai) (0.4.2)\n",
      "Requirement already satisfied: rsa<5,>=3.1.4 in c:\\users\\savan\\appdata\\local\\programs\\python\\python311\\lib\\site-packages (from google-auth<3.0.0,>=2.14.1->google-genai) (4.9.1)\n",
      "Requirement already satisfied: certifi in c:\\users\\savan\\appdata\\local\\programs\\python\\python311\\lib\\site-packages (from httpx<1.0.0,>=0.28.1->google-genai) (2025.4.26)\n",
      "Requirement already satisfied: httpcore==1.* in c:\\users\\savan\\appdata\\local\\programs\\python\\python311\\lib\\site-packages (from httpx<1.0.0,>=0.28.1->google-genai) (1.0.9)\n",
      "Requirement already satisfied: h11>=0.16 in c:\\users\\savan\\appdata\\local\\programs\\python\\python311\\lib\\site-packages (from httpcore==1.*->httpx<1.0.0,>=0.28.1->google-genai) (0.16.0)\n",
      "Requirement already satisfied: annotated-types>=0.6.0 in c:\\users\\savan\\appdata\\local\\programs\\python\\python311\\lib\\site-packages (from pydantic<3.0.0,>=2.0.0->google-genai) (0.7.0)\n",
      "Requirement already satisfied: pydantic-core==2.33.1 in c:\\users\\savan\\appdata\\local\\programs\\python\\python311\\lib\\site-packages (from pydantic<3.0.0,>=2.0.0->google-genai) (2.33.1)\n",
      "Requirement already satisfied: typing-inspection>=0.4.0 in c:\\users\\savan\\appdata\\local\\programs\\python\\python311\\lib\\site-packages (from pydantic<3.0.0,>=2.0.0->google-genai) (0.4.0)\n",
      "Requirement already satisfied: charset-normalizer<4,>=2 in c:\\users\\savan\\appdata\\local\\programs\\python\\python311\\lib\\site-packages (from requests<3.0.0,>=2.28.1->google-genai) (3.4.1)\n",
      "Requirement already satisfied: urllib3<3,>=1.21.1 in c:\\users\\savan\\appdata\\local\\programs\\python\\python311\\lib\\site-packages (from requests<3.0.0,>=2.28.1->google-genai) (2.4.0)\n",
      "Requirement already satisfied: pyasn1>=0.1.3 in c:\\users\\savan\\appdata\\local\\programs\\python\\python311\\lib\\site-packages (from rsa<5,>=3.1.4->google-auth<3.0.0,>=2.14.1->google-genai) (0.6.1)\n",
      "Requirement already satisfied: faiss-cpu in c:\\users\\savan\\appdata\\local\\programs\\python\\python311\\lib\\site-packages (1.11.0)\n",
      "Requirement already satisfied: numpy<3.0,>=1.25.0 in c:\\users\\savan\\appdata\\local\\programs\\python\\python311\\lib\\site-packages (from faiss-cpu) (2.1.3)\n",
      "Requirement already satisfied: packaging in c:\\users\\savan\\appdata\\local\\programs\\python\\python311\\lib\\site-packages (from faiss-cpu) (25.0)\n",
      "Requirement already satisfied: google-api-core in c:\\users\\savan\\appdata\\local\\programs\\python\\python311\\lib\\site-packages (2.24.2)\n",
      "Requirement already satisfied: googleapis-common-protos<2.0.0,>=1.56.2 in c:\\users\\savan\\appdata\\local\\programs\\python\\python311\\lib\\site-packages (from google-api-core) (1.70.0)\n",
      "Requirement already satisfied: protobuf!=3.20.0,!=3.20.1,!=4.21.0,!=4.21.1,!=4.21.2,!=4.21.3,!=4.21.4,!=4.21.5,<7.0.0,>=3.19.5 in c:\\users\\savan\\appdata\\local\\programs\\python\\python311\\lib\\site-packages (from google-api-core) (5.29.4)\n",
      "Requirement already satisfied: proto-plus<2.0.0,>=1.22.3 in c:\\users\\savan\\appdata\\local\\programs\\python\\python311\\lib\\site-packages (from google-api-core) (1.26.1)\n",
      "Requirement already satisfied: google-auth<3.0.0,>=2.14.1 in c:\\users\\savan\\appdata\\local\\programs\\python\\python311\\lib\\site-packages (from google-api-core) (2.39.0)\n",
      "Requirement already satisfied: requests<3.0.0,>=2.18.0 in c:\\users\\savan\\appdata\\local\\programs\\python\\python311\\lib\\site-packages (from google-api-core) (2.32.3)\n",
      "Requirement already satisfied: cachetools<6.0,>=2.0.0 in c:\\users\\savan\\appdata\\local\\programs\\python\\python311\\lib\\site-packages (from google-auth<3.0.0,>=2.14.1->google-api-core) (5.5.2)\n",
      "Requirement already satisfied: pyasn1-modules>=0.2.1 in c:\\users\\savan\\appdata\\local\\programs\\python\\python311\\lib\\site-packages (from google-auth<3.0.0,>=2.14.1->google-api-core) (0.4.2)\n",
      "Requirement already satisfied: rsa<5,>=3.1.4 in c:\\users\\savan\\appdata\\local\\programs\\python\\python311\\lib\\site-packages (from google-auth<3.0.0,>=2.14.1->google-api-core) (4.9.1)\n",
      "Requirement already satisfied: charset-normalizer<4,>=2 in c:\\users\\savan\\appdata\\local\\programs\\python\\python311\\lib\\site-packages (from requests<3.0.0,>=2.18.0->google-api-core) (3.4.1)\n",
      "Requirement already satisfied: idna<4,>=2.5 in c:\\users\\savan\\appdata\\local\\programs\\python\\python311\\lib\\site-packages (from requests<3.0.0,>=2.18.0->google-api-core) (3.10)\n",
      "Requirement already satisfied: urllib3<3,>=1.21.1 in c:\\users\\savan\\appdata\\local\\programs\\python\\python311\\lib\\site-packages (from requests<3.0.0,>=2.18.0->google-api-core) (2.4.0)\n",
      "Requirement already satisfied: certifi>=2017.4.17 in c:\\users\\savan\\appdata\\local\\programs\\python\\python311\\lib\\site-packages (from requests<3.0.0,>=2.18.0->google-api-core) (2025.4.26)\n",
      "Requirement already satisfied: pyasn1>=0.1.3 in c:\\users\\savan\\appdata\\local\\programs\\python\\python311\\lib\\site-packages (from rsa<5,>=3.1.4->google-auth<3.0.0,>=2.14.1->google-api-core) (0.6.1)\n",
      "Requirement already satisfied: python-dotenv in c:\\users\\savan\\appdata\\local\\programs\\python\\python311\\lib\\site-packages (1.1.0)\n"
     ]
    }
   ],
   "source": [
    "# Install required packages\n",
    "!pip install -U google-genai\n",
    "!pip install faiss-cpu\n",
    "!pip install google-api-core\n",
    "!pip install python-dotenv"
   ]
  },
  {
   "cell_type": "code",
   "execution_count": null,
   "id": "17ef357b",
   "metadata": {},
   "outputs": [
    {
     "data": {
      "text/plain": [
       "True"
      ]
     },
     "execution_count": 17,
     "metadata": {},
     "output_type": "execute_result"
    }
   ],
   "source": [
    "import pandas as pd\n",
    "from google import genai\n",
    "from dotenv import load_dotenv, find_dotenv\n",
    "import os\n",
    "import warnings\n",
    "from tqdm import tqdm\n",
    "import random\n",
    "import time\n",
    "from google.genai import types\n",
    "import pickle\n",
    "load_dotenv(find_dotenv())"
   ]
  },
  {
   "cell_type": "code",
   "execution_count": null,
   "id": "cfea2694",
   "metadata": {},
   "outputs": [],
   "source": [
    "#Load and prepare the dataset\n",
    "recipes_df = pd.read_csv(\"../../Dataset/RAW_recipes.csv\")\n",
    "documents = recipes_df['name'].astype(str) + \" → \" + recipes_df['steps'].astype(str)\n",
    "documents = documents.tolist()"
   ]
  },
  {
   "cell_type": "code",
   "execution_count": 19,
   "id": "251dfca8",
   "metadata": {},
   "outputs": [],
   "source": [
    "api_key = os.getenv('KEY')\n",
    "genai_client = genai.Client(api_key=api_key)"
   ]
  },
  {
   "cell_type": "code",
   "execution_count": 20,
   "id": "287cfdf7",
   "metadata": {},
   "outputs": [],
   "source": [
    "warnings.filterwarnings(\"ignore\")"
   ]
  },
  {
   "cell_type": "code",
   "execution_count": 21,
   "id": "63659c0d",
   "metadata": {},
   "outputs": [],
   "source": [
    "# Generating embeddings with retry logic\n",
    "def embedding(text, max_retries=5):\n",
    "    for attempt in range(max_retries):\n",
    "        try:\n",
    "            return genai_client.models.embed_content(model=\"models/text-embedding-004\",contents=text,config=types.EmbedContentConfig(task_type=\"RETRIEVAL_DOCUMENT\")).embeddings[0].values\n",
    "        except Exception as err:\n",
    "            print(f\"Retry {attempt + 1} for: {text[:40]}...\\nError: {err}\")\n",
    "            time.sleep((2 ** attempt) + random.random())\n",
    "    return [0.0] * 768"
   ]
  },
  {
   "cell_type": "code",
   "execution_count": null,
   "id": "bf3072b7",
   "metadata": {},
   "outputs": [],
   "source": [
    "sample_docs = random.sample(documents, int(len(documents) * 0.010))\n",
    "embedding_file = \"../../Dataset/saved_embeddings.pkl\""
   ]
  },
  {
   "cell_type": "code",
   "execution_count": 23,
   "id": "71dd9208",
   "metadata": {},
   "outputs": [
    {
     "name": "stdout",
     "output_type": "stream",
     "text": [
      "[INFO] Loaded 2316 items from disk.\n"
     ]
    }
   ],
   "source": [
    "# Load or generate embeddings\n",
    "if os.path.exists(embedding_file):\n",
    "    with open(embedding_file, \"rb\") as f:\n",
    "        formatted_knowledge = pickle.load(f)\n",
    "    print(f\"[INFO] Loaded {len(formatted_knowledge)} items from disk.\")\n",
    "else:\n",
    "    formatted_knowledge = []\n",
    "    for item in tqdm(sample_docs):\n",
    "        title, content = item.split(\"→\") if \"→\" in item else (item, \"No content\")\n",
    "        formatted_knowledge.append({\n",
    "            \"title\": title.strip(),\n",
    "            \"body\": content.strip(),\n",
    "            \"embedding\": embedding(title.strip())\n",
    "        })\n",
    "\n",
    "    with open(embedding_file, \"wb\") as f:\n",
    "        pickle.dump(formatted_knowledge, f)\n",
    "        print(f\"[INFO] Saved {len(formatted_knowledge)} embeddings to '{embedding_file}'\")"
   ]
  },
  {
   "cell_type": "code",
   "execution_count": 24,
   "id": "b8c12d3f",
   "metadata": {},
   "outputs": [
    {
     "name": "stdout",
     "output_type": "stream",
     "text": [
      "[INFO] Total documents stored in FAISS: 2316\n"
     ]
    }
   ],
   "source": [
    "#Setup FAISS index\n",
    "import numpy as np\n",
    "import faiss\n",
    "\n",
    "embedding_dim = 768\n",
    "faiss_index = faiss.IndexFlatL2(embedding_dim)\n",
    "id_map = {}\n",
    "\n",
    "for i, item in enumerate(formatted_knowledge):\n",
    "    vector = np.array(item[\"embedding\"], dtype=np.float32)\n",
    "    faiss_index.add(np.expand_dims(vector, axis=0))\n",
    "    id_map[i] = {\"title\": item[\"title\"], \"body\": item[\"body\"]}\n",
    "\n",
    "print(f\"[INFO] Total documents stored in FAISS: {faiss_index.ntotal}\")"
   ]
  }
 ],
 "metadata": {
  "kernelspec": {
   "display_name": "Python 3",
   "language": "python",
   "name": "python3"
  },
  "language_info": {
   "codemirror_mode": {
    "name": "ipython",
    "version": 3
   },
   "file_extension": ".py",
   "mimetype": "text/x-python",
   "name": "python",
   "nbconvert_exporter": "python",
   "pygments_lexer": "ipython3",
   "version": "3.11.9"
  }
 },
 "nbformat": 4,
 "nbformat_minor": 5
}
